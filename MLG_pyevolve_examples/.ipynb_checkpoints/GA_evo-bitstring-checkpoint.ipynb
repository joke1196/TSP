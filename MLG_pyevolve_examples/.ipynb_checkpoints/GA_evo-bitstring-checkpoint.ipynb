{
 "cells": [
  {
   "cell_type": "code",
   "execution_count": 1,
   "metadata": {
    "collapsed": true
   },
   "outputs": [],
   "source": [
    "from pyevolve import G1DBinaryString\n",
    "from pyevolve import GSimpleGA\n",
    "from pyevolve import Selectors\n",
    "from pyevolve import DBAdapters"
   ]
  },
  {
   "cell_type": "code",
   "execution_count": 2,
   "metadata": {
    "collapsed": true
   },
   "outputs": [],
   "source": [
    "#fitness function\n",
    "    \n",
    "def fitness(chromosome):\n",
    "   score = 0.0\n",
    "   # iterate over the chromosome\n",
    "   for value in chromosome:\n",
    "      if value==1:\n",
    "         score += 1\n",
    "   return score"
   ]
  },
  {
   "cell_type": "code",
   "execution_count": 3,
   "metadata": {
    "collapsed": false,
    "scrolled": true
   },
   "outputs": [
    {
     "name": "stdout",
     "output_type": "stream",
     "text": [
      "Gen. 0 (0.00%): Max/Min/Avg Fitness(Raw) [11.64(18.00)/8.13(3.00)/9.70(9.70)]\n",
      "Gen. 10 (10.00%): Max/Min/Avg Fitness(Raw) [13.32(18.00)/9.46(6.00)/11.10(11.10)]\n",
      "Gen. 20 (20.00%): Max/Min/Avg Fitness(Raw) [15.07(19.00)/10.78(8.00)/12.56(12.56)]\n",
      "Gen. 30 (30.00%): Max/Min/Avg Fitness(Raw) [16.48(20.00)/11.66(9.00)/13.73(13.73)]\n",
      "Gen. 40 (40.00%): Max/Min/Avg Fitness(Raw) [18.11(20.00)/11.96(10.00)/15.09(15.09)]\n",
      "Gen. 50 (50.00%): Max/Min/Avg Fitness(Raw) [19.62(20.00)/11.56(11.00)/16.35(16.35)]\n",
      "Gen. 60 (60.00%): Max/Min/Avg Fitness(Raw) [19.79(20.00)/12.27(12.00)/16.49(16.49)]\n",
      "Gen. 70 (70.00%): Max/Min/Avg Fitness(Raw) [20.42(20.00)/11.29(12.00)/17.02(17.02)]\n",
      "Gen. 80 (80.00%): Max/Min/Avg Fitness(Raw) [21.01(20.00)/11.17(13.00)/17.51(17.51)]\n",
      "Gen. 90 (90.00%): Max/Min/Avg Fitness(Raw) [21.02(20.00)/11.13(13.00)/17.52(17.52)]\n",
      "Gen. 100 (100.00%): Max/Min/Avg Fitness(Raw) [20.40(20.00)/12.47(13.00)/17.00(17.00)]\n",
      "Total time elapsed: 1.091 seconds.\n",
      "- GenomeBase\n",
      "\tScore:\t\t\t 20.000000\n",
      "\tFitness:\t\t 20.400000\n",
      "\n",
      "\tParams:\t\t {}\n",
      "\n",
      "\tSlot [Evaluator] (Count: 1)\n",
      "\t\tName: fitness - Weight: 0.50\n",
      "\tSlot [Initializator] (Count: 1)\n",
      "\t\tName: G1DBinaryStringInitializator - Weight: 0.50\n",
      "\t\tDoc:  1D Binary String initializator \n",
      "\tSlot [Mutator] (Count: 1)\n",
      "\t\tName: G1DBinaryStringMutatorFlip - Weight: 0.50\n",
      "\t\tDoc:  The classical flip mutator for binary strings \n",
      "\tSlot [Crossover] (Count: 1)\n",
      "\t\tName: G1DBinaryStringXSinglePoint - Weight: 0.50\n",
      "\t\tDoc:  The crossover of 1D Binary String, Single Point\n",
      "\n",
      "   .. warning:: You can't use this crossover method for binary strings with length of 1.\n",
      "\n",
      "   \n",
      "\n",
      "- G1DBinaryString\n",
      "\tString length:\t 20\n",
      "\tString:\t\t 11111111111111111111\n",
      "\n",
      "\n"
     ]
    }
   ],
   "source": [
    "# Chromosome representation\n",
    "\n",
    "# genome = bitstring\n",
    "genome = G1DBinaryString.G1DBinaryString(20)\n",
    "\n",
    "# how to compute the fitness\n",
    "genome.evaluator.set(fitness)\n",
    "\n",
    "# GA initialisation\n",
    "ga = GSimpleGA.GSimpleGA(genome)\n",
    "ga.setPopulationSize(100)\n",
    "ga.setMutationRate(0.01)\n",
    "ga.setCrossoverRate(0.9)\n",
    "ga.selector.set(Selectors.GRouletteWheel)\n",
    "ga.setElitism(True)\n",
    "\n",
    "# Record evolution results in a database\n",
    "sqlite_adapter = DBAdapters.DBSQLite(identify=\"log_bit-string\")\n",
    "ga.setDBAdapter(sqlite_adapter)\n",
    "\n",
    "# Number of generations\n",
    "ga.setGenerations(100)\n",
    "\n",
    "# run the GA and print out stats every freq_stats generations\n",
    "ga.evolve(freq_stats=10)\n",
    "\n",
    "# Final best solution\n",
    "print ga.bestIndividual()"
   ]
  },
  {
   "cell_type": "code",
   "execution_count": 4,
   "metadata": {
    "collapsed": false,
    "scrolled": true
   },
   "outputs": [
    {
     "name": "stderr",
     "output_type": "stream",
     "text": [
      "ERROR: File `u'/Users/aperezur/anaconda/bin/pyevolve_graph.py'` not found.\n"
     ]
    }
   ],
   "source": [
    "# Generate a graph showing the evolutionary results: fitness vs generations\n",
    "%run /Users/aperezur/anaconda/bin/pyevolve_graph.py -i log_bit-string -2"
   ]
  },
  {
   "cell_type": "code",
   "execution_count": null,
   "metadata": {
    "collapsed": false
   },
   "outputs": [],
   "source": [
    "# Generate a heatmap of population fitness score distribution over generations\n",
    "%run /Users/aperezur/anaconda/bin/pyevolve_graph.py -i log_bit-string -9"
   ]
  }
 ],
 "metadata": {
  "kernelspec": {
   "display_name": "Python 2",
   "language": "python",
   "name": "python2"
  },
  "language_info": {
   "codemirror_mode": {
    "name": "ipython",
    "version": 2
   },
   "file_extension": ".py",
   "mimetype": "text/x-python",
   "name": "python",
   "nbconvert_exporter": "python",
   "pygments_lexer": "ipython2",
   "version": "2.7.11"
  }
 },
 "nbformat": 4,
 "nbformat_minor": 0
}
