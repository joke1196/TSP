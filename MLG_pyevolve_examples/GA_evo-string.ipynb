{
 "cells": [
  {
   "cell_type": "code",
   "execution_count": 1,
   "metadata": {},
   "outputs": [],
   "source": [
    "from pyevolve import G1DList\n",
    "from pyevolve import GSimpleGA\n",
    "from pyevolve import Selectors\n",
    "from pyevolve import Statistics"
   ]
  },
  {
   "cell_type": "code",
   "execution_count": 2,
   "metadata": {},
   "outputs": [],
   "source": [
    "def fitness(chromosome):\n",
    "   score = 0.0\n",
    "   target = 'METHINKS_IT_IS_LIKE_A_WEASEL'\n",
    "   # iterate over the chromosome\n",
    "   for i in range(0,len(chromosome)):\n",
    "      if chr(chromosome[i]) == target[i]:\n",
    "         score += 1\n",
    "   return score"
   ]
  },
  {
   "cell_type": "code",
   "execution_count": 3,
   "metadata": {},
   "outputs": [],
   "source": [
    "def current_best(ga_engine):\n",
    "   # Here you have access to the GA Engine\n",
    "   best = ga.bestIndividual()\n",
    "   for i in range(0,len(best)):\n",
    "     print(chr(best[i]))\n",
    "   return False"
   ]
  },
  {
   "cell_type": "code",
   "execution_count": 6,
   "metadata": {},
   "outputs": [
    {
     "name": "stdout",
     "output_type": "stream",
     "text": [
      "Gen. 0 (0.00%):"
     ]
    },
    {
     "name": "stdout",
     "output_type": "stream",
     "text": [
      " Max/Min/Avg Fitness(Raw) [1.12(4.00)/0.87(0.00)/0.93(0.93)]\nGen. 10 (2.00%):"
     ]
    },
    {
     "name": "stdout",
     "output_type": "stream",
     "text": [
      " Max/Min/Avg Fitness(Raw) [7.61(11.00)/5.16(2.00)/6.34(6.34)]\nGen. 20 (4.00%):"
     ]
    },
    {
     "name": "stdout",
     "output_type": "stream",
     "text": [
      " Max/Min/Avg Fitness(Raw) [12.67(16.00)/9.18(7.00)/10.56(10.55)]\nGen. 30 (6.00%):"
     ]
    },
    {
     "name": "stdout",
     "output_type": "stream",
     "text": [
      " Max/Min/Avg Fitness(Raw) [17.04(19.00)/11.71(10.00)/14.20(14.20)]\nGen. 40 (8.00%):"
     ]
    },
    {
     "name": "stdout",
     "output_type": "stream",
     "text": [
      " Max/Min/Avg Fitness(Raw) [18.94(21.00)/12.89(11.00)/15.79(15.79)]\nGen. 50 (10.00%):"
     ]
    },
    {
     "name": "stdout",
     "output_type": "stream",
     "text": [
      " Max/Min/Avg Fitness(Raw) [19.47(23.00)/14.20(12.00)/16.22(16.23)]\nGen. 60 (12.00%):"
     ]
    },
    {
     "name": "stdout",
     "output_type": "stream",
     "text": [
      " Max/Min/Avg Fitness(Raw) [21.70(25.00)/15.43(13.00)/18.09(18.09)]\nGen. 70 (14.00%):"
     ]
    },
    {
     "name": "stdout",
     "output_type": "stream",
     "text": [
      " Max/Min/Avg Fitness(Raw) [21.28(25.00)/14.94(12.00)/17.73(17.73)]\nGen. 80 (16.00%):"
     ]
    },
    {
     "name": "stdout",
     "output_type": "stream",
     "text": [
      " Max/Min/Avg Fitness(Raw) [22.61(25.00)/15.88(14.00)/18.84(18.84)]\nGen. 90 (18.00%):"
     ]
    },
    {
     "name": "stdout",
     "output_type": "stream",
     "text": [
      " Max/Min/Avg Fitness(Raw) [22.46(25.00)/15.31(13.00)/18.72(18.72)]\nGen. 100 (20.00%):"
     ]
    },
    {
     "name": "stdout",
     "output_type": "stream",
     "text": [
      " Max/Min/Avg Fitness(Raw) [23.31(25.00)/15.64(14.00)/19.42(19.43)]\nGen. 110 (22.00%):"
     ]
    },
    {
     "name": "stdout",
     "output_type": "stream",
     "text": [
      " Max/Min/Avg Fitness(Raw) [22.81(25.00)/15.83(14.00)/19.01(19.01)]\nGen. 120 (24.00%):"
     ]
    },
    {
     "name": "stdout",
     "output_type": "stream",
     "text": [
      " Max/Min/Avg Fitness(Raw) [22.78(25.00)/15.21(13.00)/18.98(18.98)]\nGen. 130 (26.00%):"
     ]
    },
    {
     "name": "stdout",
     "output_type": "stream",
     "text": [
      " Max/Min/Avg Fitness(Raw) [22.85(25.00)/15.82(14.00)/19.04(19.04)]\nGen. 140 (28.00%):"
     ]
    },
    {
     "name": "stdout",
     "output_type": "stream",
     "text": [
      " Max/Min/Avg Fitness(Raw) [22.87(25.00)/15.81(14.00)/19.05(19.05)]\nGen. 150 (30.00%):"
     ]
    },
    {
     "name": "stdout",
     "output_type": "stream",
     "text": [
      " Max/Min/Avg Fitness(Raw) [22.37(25.00)/14.75(12.00)/18.64(18.64)]\nGen. 160 (32.00%):"
     ]
    },
    {
     "name": "stdout",
     "output_type": "stream",
     "text": [
      " Max/Min/Avg Fitness(Raw) [22.88(25.00)/16.45(15.00)/19.07(19.07)]\nGen. 170 (34.00%):"
     ]
    },
    {
     "name": "stdout",
     "output_type": "stream",
     "text": [
      " Max/Min/Avg Fitness(Raw) [23.10(26.00)/16.83(15.00)/19.25(19.25)]\nGen. 180 (36.00%):"
     ]
    },
    {
     "name": "stdout",
     "output_type": "stream",
     "text": [
      " Max/Min/Avg Fitness(Raw) [22.61(26.00)/16.82(15.00)/18.84(18.84)]\nGen. 190 (38.00%):"
     ]
    },
    {
     "name": "stdout",
     "output_type": "stream",
     "text": [
      " Max/Min/Avg Fitness(Raw) [22.42(26.00)/15.78(13.00)/18.68(18.68)]\nGen. 200 (40.00%):"
     ]
    },
    {
     "name": "stdout",
     "output_type": "stream",
     "text": [
      " Max/Min/Avg Fitness(Raw) [22.72(26.00)/16.29(14.00)/18.93(18.93)]\nGen. 210 (42.00%):"
     ]
    },
    {
     "name": "stdout",
     "output_type": "stream",
     "text": [
      " Max/Min/Avg Fitness(Raw) [22.84(26.00)/16.28(14.00)/19.03(19.04)]\nGen. 220 (44.00%):"
     ]
    },
    {
     "name": "stdout",
     "output_type": "stream",
     "text": [
      " Max/Min/Avg Fitness(Raw) [22.75(26.00)/16.29(14.00)/18.96(18.96)]\nGen. 230 (46.00%):"
     ]
    },
    {
     "name": "stdout",
     "output_type": "stream",
     "text": [
      " Max/Min/Avg Fitness(Raw) [23.74(26.00)/17.38(16.00)/19.78(19.79)]\nGen. 240 (48.00%):"
     ]
    },
    {
     "name": "stdout",
     "output_type": "stream",
     "text": [
      " Max/Min/Avg Fitness(Raw) [22.96(26.00)/16.83(15.00)/19.13(19.13)]\nGen. 250 (50.00%):"
     ]
    },
    {
     "name": "stdout",
     "output_type": "stream",
     "text": [
      " Max/Min/Avg Fitness(Raw) [22.94(26.00)/16.83(15.00)/19.11(19.11)]\nGen. 260 (52.00%):"
     ]
    },
    {
     "name": "stdout",
     "output_type": "stream",
     "text": [
      " Max/Min/Avg Fitness(Raw) [22.77(26.00)/16.29(14.00)/18.97(18.98)]\nGen. 270 (54.00%):"
     ]
    },
    {
     "name": "stdout",
     "output_type": "stream",
     "text": [
      " Max/Min/Avg Fitness(Raw) [22.76(26.00)/16.29(14.00)/18.97(18.97)]\nGen. 280 (56.00%):"
     ]
    },
    {
     "name": "stdout",
     "output_type": "stream",
     "text": [
      " Max/Min/Avg Fitness(Raw) [23.30(26.00)/16.81(15.00)/19.41(19.41)]\nGen. 290 (58.00%):"
     ]
    },
    {
     "name": "stdout",
     "output_type": "stream",
     "text": [
      " Max/Min/Avg Fitness(Raw) [23.35(26.00)/16.81(15.00)/19.46(19.45)]\nGen. 300 (60.00%):"
     ]
    },
    {
     "name": "stdout",
     "output_type": "stream",
     "text": [
      " Max/Min/Avg Fitness(Raw) [23.11(26.00)/16.83(15.00)/19.25(19.25)]\nGen. 310 (62.00%):"
     ]
    },
    {
     "name": "stdout",
     "output_type": "stream",
     "text": [
      " Max/Min/Avg Fitness(Raw) [22.78(26.00)/16.83(15.00)/18.98(18.98)]\nGen. 320 (64.00%):"
     ]
    },
    {
     "name": "stdout",
     "output_type": "stream",
     "text": [
      " Max/Min/Avg Fitness(Raw) [22.69(26.00)/16.82(15.00)/18.91(18.91)]\nGen. 330 (66.00%):"
     ]
    },
    {
     "name": "stdout",
     "output_type": "stream",
     "text": [
      " Max/Min/Avg Fitness(Raw) [22.68(26.00)/16.29(14.00)/18.90(18.90)]\nGen. 340 (68.00%):"
     ]
    },
    {
     "name": "stdout",
     "output_type": "stream",
     "text": [
      " Max/Min/Avg Fitness(Raw) [23.02(26.00)/16.83(15.00)/19.18(19.18)]\nGen. 350 (70.00%):"
     ]
    },
    {
     "name": "stdout",
     "output_type": "stream",
     "text": [
      " Max/Min/Avg Fitness(Raw) [23.57(26.00)/16.77(15.00)/19.64(19.64)]\nGen. 360 (72.00%):"
     ]
    },
    {
     "name": "stdout",
     "output_type": "stream",
     "text": [
      " Max/Min/Avg Fitness(Raw) [23.26(26.00)/16.23(14.00)/19.39(19.39)]\nGen. 370 (74.00%):"
     ]
    },
    {
     "name": "stdout",
     "output_type": "stream",
     "text": [
      " Max/Min/Avg Fitness(Raw) [23.45(26.00)/16.79(15.00)/19.55(19.55)]\nGen. 380 (76.00%):"
     ]
    },
    {
     "name": "stdout",
     "output_type": "stream",
     "text": [
      " Max/Min/Avg Fitness(Raw) [22.80(26.00)/16.29(14.00)/19.00(19.00)]\nGen. 390 (78.00%):"
     ]
    },
    {
     "name": "stdout",
     "output_type": "stream",
     "text": [
      " Max/Min/Avg Fitness(Raw) [23.20(26.00)/16.24(14.00)/19.33(19.34)]\nGen. 400 (80.00%):"
     ]
    },
    {
     "name": "stdout",
     "output_type": "stream",
     "text": [
      " Max/Min/Avg Fitness(Raw) [22.70(26.00)/16.82(15.00)/18.92(18.91)]\nGen. 410 (82.00%):"
     ]
    },
    {
     "name": "stdout",
     "output_type": "stream",
     "text": [
      " Max/Min/Avg Fitness(Raw) [23.18(26.00)/16.24(14.00)/19.32(19.32)]\nGen. 420 (84.00%):"
     ]
    },
    {
     "name": "stdout",
     "output_type": "stream",
     "text": [
      " Max/Min/Avg Fitness(Raw) [22.98(26.00)/16.27(14.00)/19.15(19.15)]\nGen. 430 (86.00%):"
     ]
    },
    {
     "name": "stdout",
     "output_type": "stream",
     "text": [
      " Max/Min/Avg Fitness(Raw) [22.45(26.00)/16.81(15.00)/18.71(18.71)]\nGen. 440 (88.00%):"
     ]
    },
    {
     "name": "stdout",
     "output_type": "stream",
     "text": [
      " Max/Min/Avg Fitness(Raw) [22.37(26.00)/16.29(14.00)/18.65(18.64)]\nGen. 450 (90.00%):"
     ]
    },
    {
     "name": "stdout",
     "output_type": "stream",
     "text": [
      " Max/Min/Avg Fitness(Raw) [23.56(26.00)/16.16(14.00)/19.63(19.64)]\nGen. 460 (92.00%):"
     ]
    },
    {
     "name": "stdout",
     "output_type": "stream",
     "text": [
      " Max/Min/Avg Fitness(Raw) [22.85(26.00)/16.83(15.00)/19.04(19.04)]\nGen. 470 (94.00%):"
     ]
    },
    {
     "name": "stdout",
     "output_type": "stream",
     "text": [
      " Max/Min/Avg Fitness(Raw) [22.51(26.00)/16.29(14.00)/18.75(18.75)]\nGen. 480 (96.00%):"
     ]
    },
    {
     "name": "stdout",
     "output_type": "stream",
     "text": [
      " Max/Min/Avg Fitness(Raw) [22.43(26.00)/16.80(15.00)/18.69(18.69)]\nGen. 490 (98.00%):"
     ]
    },
    {
     "name": "stdout",
     "output_type": "stream",
     "text": [
      " Max/Min/Avg Fitness(Raw) [23.21(26.00)/16.82(15.00)/19.35(19.34)]\nGen. 500 (100.00%):"
     ]
    },
    {
     "name": "stdout",
     "output_type": "stream",
     "text": [
      " Max/Min/Avg Fitness(Raw) [23.37(26.00)/16.80(15.00)/19.47(19.48)]\nTotal time elapsed: 7.689 seconds.\nM\nE\nT\nH\nI\nA\nK\nS\n_\nI\n_\n_\nI\nS\n_\nL\nI\nK\nE\n_\nA\n_\nW\nE\nA\nS\nE\nL\n"
     ]
    }
   ],
   "source": [
    "# Chromosome representation\n",
    "\n",
    "# genome = List of elements\n",
    "genome = G1DList.G1DList(28)\n",
    "\n",
    "# elements = values in the range rangemin and rangemax\n",
    "# ASCII(65) = 'A' .... ASCII(95) = '_'\n",
    "genome.setParams(rangemin=65, rangemax=95)\n",
    "\n",
    "# how to compute the fitness\n",
    "genome.evaluator.set(fitness)\n",
    "\n",
    "# GA initialisation\n",
    "ga = GSimpleGA.GSimpleGA(genome)\n",
    "ga.setPopulationSize(200)\n",
    "ga.setMutationRate(0.05)\n",
    "ga.setCrossoverRate(0.9)\n",
    "ga.selector.set(Selectors.GTournamentSelector)\n",
    "ga.setElitism(True)\n",
    "\n",
    "# Number of generations\n",
    "ga.setGenerations(500)\n",
    "\n",
    "# In case we want to monitor the evolution process\n",
    "# execute the function current_best every generation\n",
    "#ga.stepCallback.set(current_best)\n",
    "\n",
    "ga.evolve(freq_stats=10)\n",
    "\n",
    "# Final best solution\n",
    "best = ga.bestIndividual()\n",
    "\n",
    "for i in range(0,len(best)):\n",
    "    print(chr(best[i]))"
   ]
  },
  {
   "cell_type": "code",
   "execution_count": null,
   "metadata": {},
   "outputs": [],
   "source": [
    ""
   ]
  }
 ],
 "metadata": {
  "kernelspec": {
   "display_name": "Python 2",
   "language": "python",
   "name": "python2"
  },
  "language_info": {
   "codemirror_mode": {
    "name": "ipython",
    "version": 2.0
   },
   "file_extension": ".py",
   "mimetype": "text/x-python",
   "name": "python",
   "nbconvert_exporter": "python",
   "pygments_lexer": "ipython2",
   "version": "2.7.11"
  }
 },
 "nbformat": 4,
 "nbformat_minor": 0
}