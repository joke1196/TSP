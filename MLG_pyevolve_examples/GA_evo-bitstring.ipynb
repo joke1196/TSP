{
 "cells": [
  {
   "cell_type": "code",
   "execution_count": 1,
   "metadata": {},
   "outputs": [],
   "source": [
    "from pyevolve import G1DBinaryString\n",
    "from pyevolve import GSimpleGA\n",
    "from pyevolve import Selectors\n",
    "from pyevolve import DBAdapters"
   ]
  },
  {
   "cell_type": "code",
   "execution_count": 2,
   "metadata": {},
   "outputs": [],
   "source": [
    "#fitness function\n",
    "    \n",
    "def fitness(chromosome):\n",
    "   score = 0.0\n",
    "   # iterate over the chromosome\n",
    "   for value in chromosome:\n",
    "      if value==1:\n",
    "         score += 1\n",
    "   return score"
   ]
  },
  {
   "cell_type": "code",
   "execution_count": 17,
   "metadata": {},
   "outputs": [
    {
     "name": "stdout",
     "output_type": "stream",
     "text": [
      "Gen. 0 (0.00%):"
     ]
    },
    {
     "name": "stdout",
     "output_type": "stream",
     "text": [
      " Max/Min/Avg Fitness(Raw) [11.74(17.00)/8.21(4.00)/9.78(9.78)]\nGen. 10 (10.00%):"
     ]
    },
    {
     "name": "stdout",
     "output_type": "stream",
     "text": [
      " Max/Min/Avg Fitness(Raw) [14.80(18.00)/10.88(9.00)/12.33(12.33)]\nGen. 20 (20.00%):"
     ]
    },
    {
     "name": "stdout",
     "output_type": "stream",
     "text": [
      " Max/Min/Avg Fitness(Raw) [16.50(19.00)/11.26(9.00)/13.75(13.75)]\nGen. 30 (30.00%):"
     ]
    },
    {
     "name": "stdout",
     "output_type": "stream",
     "text": [
      " Max/Min/Avg Fitness(Raw) [16.56(19.00)/11.25(9.00)/13.80(13.80)]\nGen. 40 (40.00%):"
     ]
    },
    {
     "name": "stdout",
     "output_type": "stream",
     "text": [
      " Max/Min/Avg Fitness(Raw) [18.89(20.00)/12.98(12.00)/15.74(15.74)]\nGen. 50 (50.00%):"
     ]
    },
    {
     "name": "stdout",
     "output_type": "stream",
     "text": [
      " Max/Min/Avg Fitness(Raw) [18.13(20.00)/12.57(11.00)/15.11(15.11)]\nGen. 60 (60.00%):"
     ]
    },
    {
     "name": "stdout",
     "output_type": "stream",
     "text": [
      " Max/Min/Avg Fitness(Raw) [18.59(20.00)/13.09(12.00)/15.49(15.49)]\nGen. 70 (70.00%):"
     ]
    },
    {
     "name": "stdout",
     "output_type": "stream",
     "text": [
      " Max/Min/Avg Fitness(Raw) [18.59(20.00)/11.72(10.00)/15.49(15.49)]\nGen. 80 (80.00%):"
     ]
    },
    {
     "name": "stdout",
     "output_type": "stream",
     "text": [
      " Max/Min/Avg Fitness(Raw) [19.31(20.00)/11.90(11.00)/16.09(16.09)]\nGen. 90 (90.00%):"
     ]
    },
    {
     "name": "stdout",
     "output_type": "stream",
     "text": [
      " Max/Min/Avg Fitness(Raw) [19.88(20.00)/12.15(12.00)/16.57(16.57)]\nGen. 100 (100.00%):"
     ]
    },
    {
     "name": "stdout",
     "output_type": "stream",
     "text": [
      " Max/Min/Avg Fitness(Raw) [19.73(20.00)/12.34(12.00)/16.44(16.44)]\nTotal time elapsed: 1.192 seconds.\n- GenomeBase\n\tScore:\t\t\t 20.000000\n\tFitness:\t\t 19.728000\n\n\tParams:\t\t {}\n\n\tSlot [Evaluator] (Count: 1)\n\t\tName: fitness - Weight: 0.50\n\tSlot [Initializator] (Count: 1)\n\t\tName: G1DBinaryStringInitializator - Weight: 0.50\n\t\tDoc:  1D Binary String initializator \n\tSlot [Mutator] (Count: 1)\n\t\tName: G1DBinaryStringMutatorFlip - Weight: 0.50\n\t\tDoc:  The classical flip mutator for binary strings \n\tSlot [Crossover] (Count: 1)\n\t\tName: G1DBinaryStringXSinglePoint - Weight: 0.50\n\t\tDoc:  The crossover of 1D Binary String, Single Point\n\n   .. warning:: You can't use this crossover method for binary strings with length of 1.\n\n   \n\n- G1DBinaryString\n\tString length:\t 20\n\tString:\t\t 11111111111111111111\n\n"
     ]
    },
    {
     "name": "stdout",
     "output_type": "stream",
     "text": [
      "\n"
     ]
    }
   ],
   "source": [
    "# Chromosome representation\n",
    "\n",
    "# genome = bitstring\n",
    "genome = G1DBinaryString.G1DBinaryString(20)\n",
    "\n",
    "# how to compute the fitness\n",
    "genome.evaluator.set(fitness)\n",
    "\n",
    "# GA initialisation\n",
    "ga = GSimpleGA.GSimpleGA(genome)\n",
    "ga.setPopulationSize(100)\n",
    "ga.setMutationRate(0.01)\n",
    "ga.setCrossoverRate(0.9)\n",
    "ga.selector.set(Selectors.GRouletteWheel)\n",
    "ga.setElitism(True)\n",
    "\n",
    "# Record evolution results in a database\n",
    "sqlite_adapter = DBAdapters.DBSQLite(identify=\"log_bit-string\")\n",
    "ga.setDBAdapter(sqlite_adapter)\n",
    "\n",
    "# Number of generations\n",
    "ga.setGenerations(100)\n",
    "\n",
    "# run the GA and print out stats every freq_stats generations\n",
    "ga.evolve(freq_stats=10)\n",
    "\n",
    "# Final best solution\n",
    "print ga.bestIndividual()"
   ]
  },
  {
   "cell_type": "code",
   "execution_count": 18,
   "metadata": {},
   "outputs": [
    {
     "name": "stdout",
     "output_type": "stream",
     "text": [
      "Pyevolve 0.6rc1 - Graph Plot Tool\nBy Christian S. Perone\n\nLoading modules....\nLoading database and creating graph...\n100 generations found !\n"
     ]
    }
   ],
   "source": [
    "# Generate a graph showing the evolutionary results: fitness vs generations\n",
    "%run E:/anaconda2/Scripts/pyevolve_graph.py -i log_bit-string -2"
   ]
  },
  {
   "cell_type": "code",
   "execution_count": 15,
   "metadata": {},
   "outputs": [
    {
     "name": "stdout",
     "output_type": "stream",
     "text": [
      "Pyevolve 0.6rc1 - Graph Plot Tool\nBy Christian S. Perone\n\nLoading modules....\nLoading database and creating graph...\n100 generations found !"
     ]
    },
    {
     "name": "stdout",
     "output_type": "stream",
     "text": [
      "\n"
     ]
    }
   ],
   "source": [
    "# Generate a heatmap of population fitness score distribution over generations\n",
    "%run E:/anaconda2/Scripts/pyevolve_graph.py -i log_bit-string -9"
   ]
  },
  {
   "cell_type": "code",
   "execution_count": null,
   "metadata": {},
   "outputs": [],
   "source": [
    ""
   ]
  }
 ],
 "metadata": {
  "kernelspec": {
   "display_name": "Python 2",
   "language": "python",
   "name": "python2"
  },
  "language_info": {
   "codemirror_mode": {
    "name": "ipython",
    "version": 2.0
   },
   "file_extension": ".py",
   "mimetype": "text/x-python",
   "name": "python",
   "nbconvert_exporter": "python",
   "pygments_lexer": "ipython2",
   "version": "2.7.11"
  }
 },
 "nbformat": 4,
 "nbformat_minor": 0
}